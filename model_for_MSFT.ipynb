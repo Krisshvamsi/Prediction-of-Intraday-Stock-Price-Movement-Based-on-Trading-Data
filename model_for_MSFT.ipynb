{
 "cells": [
  {
   "cell_type": "code",
   "execution_count": 17,
   "id": "fde760c6",
   "metadata": {},
   "outputs": [],
   "source": [
    "import pickle\n",
    "import pandas as pd\n",
    "import numpy as np\n",
    "import matplotlib.pyplot as plt\n",
    "import seaborn as sns"
   ]
  },
  {
   "cell_type": "code",
   "execution_count": 6,
   "id": "06cf7dd7",
   "metadata": {},
   "outputs": [],
   "source": [
    "pickle_in = open(\"msftdf.pickle\",\"rb\")\n",
    "df = pickle.load(pickle_in)"
   ]
  },
  {
   "cell_type": "code",
   "execution_count": 9,
   "id": "007edc03",
   "metadata": {},
   "outputs": [
    {
     "data": {
      "text/html": [
       "<div>\n",
       "<style scoped>\n",
       "    .dataframe tbody tr th:only-of-type {\n",
       "        vertical-align: middle;\n",
       "    }\n",
       "\n",
       "    .dataframe tbody tr th {\n",
       "        vertical-align: top;\n",
       "    }\n",
       "\n",
       "    .dataframe thead th {\n",
       "        text-align: right;\n",
       "    }\n",
       "</style>\n",
       "<table border=\"1\" class=\"dataframe\">\n",
       "  <thead>\n",
       "    <tr style=\"text-align: right;\">\n",
       "      <th></th>\n",
       "      <th>Date</th>\n",
       "      <th>Open</th>\n",
       "      <th>High</th>\n",
       "      <th>Low</th>\n",
       "      <th>Close</th>\n",
       "      <th>Adj Close</th>\n",
       "      <th>Volume</th>\n",
       "      <th>year</th>\n",
       "      <th>month</th>\n",
       "      <th>day_of_week</th>\n",
       "      <th>...</th>\n",
       "      <th>change</th>\n",
       "      <th>change_in_percentage</th>\n",
       "      <th>ema_12</th>\n",
       "      <th>ema_26</th>\n",
       "      <th>ema_50</th>\n",
       "      <th>ema_100</th>\n",
       "      <th>ema_200</th>\n",
       "      <th>MACD</th>\n",
       "      <th>Signal</th>\n",
       "      <th>Returns</th>\n",
       "    </tr>\n",
       "  </thead>\n",
       "  <tbody>\n",
       "    <tr>\n",
       "      <th>0</th>\n",
       "      <td>1986-03-13</td>\n",
       "      <td>0.088542</td>\n",
       "      <td>0.101563</td>\n",
       "      <td>0.088542</td>\n",
       "      <td>0.097222</td>\n",
       "      <td>0.061751</td>\n",
       "      <td>1031788800</td>\n",
       "      <td>1986</td>\n",
       "      <td>3</td>\n",
       "      <td>3</td>\n",
       "      <td>...</td>\n",
       "      <td>0.008680</td>\n",
       "      <td>9.803</td>\n",
       "      <td>0.061751</td>\n",
       "      <td>0.061751</td>\n",
       "      <td>0.061751</td>\n",
       "      <td>0.061751</td>\n",
       "      <td>0.061751</td>\n",
       "      <td>0.000000</td>\n",
       "      <td>0.061751</td>\n",
       "      <td>NaN</td>\n",
       "    </tr>\n",
       "    <tr>\n",
       "      <th>1</th>\n",
       "      <td>1986-03-14</td>\n",
       "      <td>0.097222</td>\n",
       "      <td>0.102431</td>\n",
       "      <td>0.097222</td>\n",
       "      <td>0.100694</td>\n",
       "      <td>0.063956</td>\n",
       "      <td>308160000</td>\n",
       "      <td>1986</td>\n",
       "      <td>3</td>\n",
       "      <td>4</td>\n",
       "      <td>...</td>\n",
       "      <td>0.003472</td>\n",
       "      <td>3.571</td>\n",
       "      <td>0.062090</td>\n",
       "      <td>0.061914</td>\n",
       "      <td>0.061837</td>\n",
       "      <td>0.061794</td>\n",
       "      <td>0.061773</td>\n",
       "      <td>-0.000176</td>\n",
       "      <td>0.062192</td>\n",
       "      <td>-0.342167</td>\n",
       "    </tr>\n",
       "    <tr>\n",
       "      <th>2</th>\n",
       "      <td>1986-03-17</td>\n",
       "      <td>0.100694</td>\n",
       "      <td>0.103299</td>\n",
       "      <td>0.100694</td>\n",
       "      <td>0.102431</td>\n",
       "      <td>0.065059</td>\n",
       "      <td>133171200</td>\n",
       "      <td>1986</td>\n",
       "      <td>3</td>\n",
       "      <td>0</td>\n",
       "      <td>...</td>\n",
       "      <td>0.001737</td>\n",
       "      <td>1.725</td>\n",
       "      <td>0.062547</td>\n",
       "      <td>0.062147</td>\n",
       "      <td>0.061963</td>\n",
       "      <td>0.061859</td>\n",
       "      <td>0.061805</td>\n",
       "      <td>-0.000400</td>\n",
       "      <td>0.062765</td>\n",
       "      <td>-0.353893</td>\n",
       "    </tr>\n",
       "    <tr>\n",
       "      <th>3</th>\n",
       "      <td>1986-03-18</td>\n",
       "      <td>0.102431</td>\n",
       "      <td>0.103299</td>\n",
       "      <td>0.098958</td>\n",
       "      <td>0.099826</td>\n",
       "      <td>0.063405</td>\n",
       "      <td>67766400</td>\n",
       "      <td>1986</td>\n",
       "      <td>3</td>\n",
       "      <td>1</td>\n",
       "      <td>...</td>\n",
       "      <td>-0.002605</td>\n",
       "      <td>-2.543</td>\n",
       "      <td>0.062679</td>\n",
       "      <td>0.062240</td>\n",
       "      <td>0.062020</td>\n",
       "      <td>0.061890</td>\n",
       "      <td>0.061821</td>\n",
       "      <td>-0.000439</td>\n",
       "      <td>0.062893</td>\n",
       "      <td>-0.381002</td>\n",
       "    </tr>\n",
       "    <tr>\n",
       "      <th>4</th>\n",
       "      <td>1986-03-19</td>\n",
       "      <td>0.099826</td>\n",
       "      <td>0.100694</td>\n",
       "      <td>0.097222</td>\n",
       "      <td>0.098090</td>\n",
       "      <td>0.062302</td>\n",
       "      <td>47894400</td>\n",
       "      <td>1986</td>\n",
       "      <td>3</td>\n",
       "      <td>2</td>\n",
       "      <td>...</td>\n",
       "      <td>-0.001736</td>\n",
       "      <td>-1.739</td>\n",
       "      <td>0.062621</td>\n",
       "      <td>0.062245</td>\n",
       "      <td>0.062031</td>\n",
       "      <td>0.061898</td>\n",
       "      <td>0.061826</td>\n",
       "      <td>-0.000376</td>\n",
       "      <td>0.062775</td>\n",
       "      <td>-0.375895</td>\n",
       "    </tr>\n",
       "  </tbody>\n",
       "</table>\n",
       "<p>5 rows × 22 columns</p>\n",
       "</div>"
      ],
      "text/plain": [
       "        Date      Open      High       Low     Close  Adj Close      Volume  \\\n",
       "0 1986-03-13  0.088542  0.101563  0.088542  0.097222   0.061751  1031788800   \n",
       "1 1986-03-14  0.097222  0.102431  0.097222  0.100694   0.063956   308160000   \n",
       "2 1986-03-17  0.100694  0.103299  0.100694  0.102431   0.065059   133171200   \n",
       "3 1986-03-18  0.102431  0.103299  0.098958  0.099826   0.063405    67766400   \n",
       "4 1986-03-19  0.099826  0.100694  0.097222  0.098090   0.062302    47894400   \n",
       "\n",
       "   year  month  day_of_week  ...    change  change_in_percentage    ema_12  \\\n",
       "0  1986      3            3  ...  0.008680                 9.803  0.061751   \n",
       "1  1986      3            4  ...  0.003472                 3.571  0.062090   \n",
       "2  1986      3            0  ...  0.001737                 1.725  0.062547   \n",
       "3  1986      3            1  ... -0.002605                -2.543  0.062679   \n",
       "4  1986      3            2  ... -0.001736                -1.739  0.062621   \n",
       "\n",
       "     ema_26    ema_50   ema_100   ema_200      MACD    Signal   Returns  \n",
       "0  0.061751  0.061751  0.061751  0.061751  0.000000  0.061751       NaN  \n",
       "1  0.061914  0.061837  0.061794  0.061773 -0.000176  0.062192 -0.342167  \n",
       "2  0.062147  0.061963  0.061859  0.061805 -0.000400  0.062765 -0.353893  \n",
       "3  0.062240  0.062020  0.061890  0.061821 -0.000439  0.062893 -0.381002  \n",
       "4  0.062245  0.062031  0.061898  0.061826 -0.000376  0.062775 -0.375895  \n",
       "\n",
       "[5 rows x 22 columns]"
      ]
     },
     "execution_count": 9,
     "metadata": {},
     "output_type": "execute_result"
    }
   ],
   "source": [
    "df.head()"
   ]
  },
  {
   "cell_type": "code",
   "execution_count": 10,
   "id": "51fc1754",
   "metadata": {},
   "outputs": [
    {
     "name": "stdout",
     "output_type": "stream",
     "text": [
      "<class 'pandas.core.frame.DataFrame'>\n",
      "RangeIndex: 8857 entries, 0 to 8856\n",
      "Data columns (total 22 columns):\n",
      " #   Column                Non-Null Count  Dtype         \n",
      "---  ------                --------------  -----         \n",
      " 0   Date                  8857 non-null   datetime64[ns]\n",
      " 1   Open                  8857 non-null   float64       \n",
      " 2   High                  8857 non-null   float64       \n",
      " 3   Low                   8857 non-null   float64       \n",
      " 4   Close                 8857 non-null   float64       \n",
      " 5   Adj Close             8857 non-null   float64       \n",
      " 6   Volume                8857 non-null   int64         \n",
      " 7   year                  8857 non-null   int64         \n",
      " 8   month                 8857 non-null   int64         \n",
      " 9   day_of_week           8857 non-null   int64         \n",
      " 10  week                  8857 non-null   UInt32        \n",
      " 11  day                   8857 non-null   int64         \n",
      " 12  change                8857 non-null   float64       \n",
      " 13  change_in_percentage  8857 non-null   float64       \n",
      " 14  ema_12                8857 non-null   float64       \n",
      " 15  ema_26                8857 non-null   float64       \n",
      " 16  ema_50                8857 non-null   float64       \n",
      " 17  ema_100               8857 non-null   float64       \n",
      " 18  ema_200               8857 non-null   float64       \n",
      " 19  MACD                  8857 non-null   float64       \n",
      " 20  Signal                8857 non-null   float64       \n",
      " 21  Returns               8856 non-null   float64       \n",
      "dtypes: UInt32(1), datetime64[ns](1), float64(15), int64(5)\n",
      "memory usage: 1.5 MB\n"
     ]
    }
   ],
   "source": [
    "df.info()"
   ]
  },
  {
   "cell_type": "code",
   "execution_count": 13,
   "id": "316f8d70",
   "metadata": {},
   "outputs": [
    {
     "data": {
      "text/html": [
       "<div>\n",
       "<style scoped>\n",
       "    .dataframe tbody tr th:only-of-type {\n",
       "        vertical-align: middle;\n",
       "    }\n",
       "\n",
       "    .dataframe tbody tr th {\n",
       "        vertical-align: top;\n",
       "    }\n",
       "\n",
       "    .dataframe thead th {\n",
       "        text-align: right;\n",
       "    }\n",
       "</style>\n",
       "<table border=\"1\" class=\"dataframe\">\n",
       "  <thead>\n",
       "    <tr style=\"text-align: right;\">\n",
       "      <th></th>\n",
       "      <th>Date</th>\n",
       "      <th>Open</th>\n",
       "      <th>High</th>\n",
       "      <th>Low</th>\n",
       "      <th>Close</th>\n",
       "      <th>Adj Close</th>\n",
       "      <th>Volume</th>\n",
       "      <th>year</th>\n",
       "      <th>month</th>\n",
       "      <th>day_of_week</th>\n",
       "      <th>...</th>\n",
       "      <th>change_in_percentage</th>\n",
       "      <th>ema_12</th>\n",
       "      <th>ema_26</th>\n",
       "      <th>ema_50</th>\n",
       "      <th>ema_100</th>\n",
       "      <th>ema_200</th>\n",
       "      <th>MACD</th>\n",
       "      <th>Signal</th>\n",
       "      <th>Returns</th>\n",
       "      <th>Target</th>\n",
       "    </tr>\n",
       "  </thead>\n",
       "  <tbody>\n",
       "    <tr>\n",
       "      <th>0</th>\n",
       "      <td>1986-03-13</td>\n",
       "      <td>0.088542</td>\n",
       "      <td>0.101563</td>\n",
       "      <td>0.088542</td>\n",
       "      <td>0.097222</td>\n",
       "      <td>0.061751</td>\n",
       "      <td>1031788800</td>\n",
       "      <td>1986</td>\n",
       "      <td>3</td>\n",
       "      <td>3</td>\n",
       "      <td>...</td>\n",
       "      <td>9.803</td>\n",
       "      <td>0.061751</td>\n",
       "      <td>0.061751</td>\n",
       "      <td>0.061751</td>\n",
       "      <td>0.061751</td>\n",
       "      <td>0.061751</td>\n",
       "      <td>0.000000</td>\n",
       "      <td>0.061751</td>\n",
       "      <td>NaN</td>\n",
       "      <td>1</td>\n",
       "    </tr>\n",
       "    <tr>\n",
       "      <th>1</th>\n",
       "      <td>1986-03-14</td>\n",
       "      <td>0.097222</td>\n",
       "      <td>0.102431</td>\n",
       "      <td>0.097222</td>\n",
       "      <td>0.100694</td>\n",
       "      <td>0.063956</td>\n",
       "      <td>308160000</td>\n",
       "      <td>1986</td>\n",
       "      <td>3</td>\n",
       "      <td>4</td>\n",
       "      <td>...</td>\n",
       "      <td>3.571</td>\n",
       "      <td>0.062090</td>\n",
       "      <td>0.061914</td>\n",
       "      <td>0.061837</td>\n",
       "      <td>0.061794</td>\n",
       "      <td>0.061773</td>\n",
       "      <td>-0.000176</td>\n",
       "      <td>0.062192</td>\n",
       "      <td>-0.342167</td>\n",
       "      <td>1</td>\n",
       "    </tr>\n",
       "    <tr>\n",
       "      <th>2</th>\n",
       "      <td>1986-03-17</td>\n",
       "      <td>0.100694</td>\n",
       "      <td>0.103299</td>\n",
       "      <td>0.100694</td>\n",
       "      <td>0.102431</td>\n",
       "      <td>0.065059</td>\n",
       "      <td>133171200</td>\n",
       "      <td>1986</td>\n",
       "      <td>3</td>\n",
       "      <td>0</td>\n",
       "      <td>...</td>\n",
       "      <td>1.725</td>\n",
       "      <td>0.062547</td>\n",
       "      <td>0.062147</td>\n",
       "      <td>0.061963</td>\n",
       "      <td>0.061859</td>\n",
       "      <td>0.061805</td>\n",
       "      <td>-0.000400</td>\n",
       "      <td>0.062765</td>\n",
       "      <td>-0.353893</td>\n",
       "      <td>1</td>\n",
       "    </tr>\n",
       "    <tr>\n",
       "      <th>3</th>\n",
       "      <td>1986-03-18</td>\n",
       "      <td>0.102431</td>\n",
       "      <td>0.103299</td>\n",
       "      <td>0.098958</td>\n",
       "      <td>0.099826</td>\n",
       "      <td>0.063405</td>\n",
       "      <td>67766400</td>\n",
       "      <td>1986</td>\n",
       "      <td>3</td>\n",
       "      <td>1</td>\n",
       "      <td>...</td>\n",
       "      <td>-2.543</td>\n",
       "      <td>0.062679</td>\n",
       "      <td>0.062240</td>\n",
       "      <td>0.062020</td>\n",
       "      <td>0.061890</td>\n",
       "      <td>0.061821</td>\n",
       "      <td>-0.000439</td>\n",
       "      <td>0.062893</td>\n",
       "      <td>-0.381002</td>\n",
       "      <td>0</td>\n",
       "    </tr>\n",
       "    <tr>\n",
       "      <th>4</th>\n",
       "      <td>1986-03-19</td>\n",
       "      <td>0.099826</td>\n",
       "      <td>0.100694</td>\n",
       "      <td>0.097222</td>\n",
       "      <td>0.098090</td>\n",
       "      <td>0.062302</td>\n",
       "      <td>47894400</td>\n",
       "      <td>1986</td>\n",
       "      <td>3</td>\n",
       "      <td>2</td>\n",
       "      <td>...</td>\n",
       "      <td>-1.739</td>\n",
       "      <td>0.062621</td>\n",
       "      <td>0.062245</td>\n",
       "      <td>0.062031</td>\n",
       "      <td>0.061898</td>\n",
       "      <td>0.061826</td>\n",
       "      <td>-0.000376</td>\n",
       "      <td>0.062775</td>\n",
       "      <td>-0.375895</td>\n",
       "      <td>0</td>\n",
       "    </tr>\n",
       "  </tbody>\n",
       "</table>\n",
       "<p>5 rows × 23 columns</p>\n",
       "</div>"
      ],
      "text/plain": [
       "        Date      Open      High       Low     Close  Adj Close      Volume  \\\n",
       "0 1986-03-13  0.088542  0.101563  0.088542  0.097222   0.061751  1031788800   \n",
       "1 1986-03-14  0.097222  0.102431  0.097222  0.100694   0.063956   308160000   \n",
       "2 1986-03-17  0.100694  0.103299  0.100694  0.102431   0.065059   133171200   \n",
       "3 1986-03-18  0.102431  0.103299  0.098958  0.099826   0.063405    67766400   \n",
       "4 1986-03-19  0.099826  0.100694  0.097222  0.098090   0.062302    47894400   \n",
       "\n",
       "   year  month  day_of_week  ...  change_in_percentage    ema_12    ema_26  \\\n",
       "0  1986      3            3  ...                 9.803  0.061751  0.061751   \n",
       "1  1986      3            4  ...                 3.571  0.062090  0.061914   \n",
       "2  1986      3            0  ...                 1.725  0.062547  0.062147   \n",
       "3  1986      3            1  ...                -2.543  0.062679  0.062240   \n",
       "4  1986      3            2  ...                -1.739  0.062621  0.062245   \n",
       "\n",
       "     ema_50   ema_100   ema_200      MACD    Signal   Returns  Target  \n",
       "0  0.061751  0.061751  0.061751  0.000000  0.061751       NaN       1  \n",
       "1  0.061837  0.061794  0.061773 -0.000176  0.062192 -0.342167       1  \n",
       "2  0.061963  0.061859  0.061805 -0.000400  0.062765 -0.353893       1  \n",
       "3  0.062020  0.061890  0.061821 -0.000439  0.062893 -0.381002       0  \n",
       "4  0.062031  0.061898  0.061826 -0.000376  0.062775 -0.375895       0  \n",
       "\n",
       "[5 rows x 23 columns]"
      ]
     },
     "execution_count": 13,
     "metadata": {},
     "output_type": "execute_result"
    }
   ],
   "source": [
    "df['Target'] = df['change_in_percentage'].apply(lambda x: '1' if x >0 else '0')\n",
    "\n",
    "df.head()"
   ]
  },
  {
   "cell_type": "code",
   "execution_count": 14,
   "id": "35b163fa",
   "metadata": {},
   "outputs": [],
   "source": [
    "#Now we have all the features we needed"
   ]
  },
  {
   "cell_type": "code",
   "execution_count": 15,
   "id": "b5fe3337",
   "metadata": {},
   "outputs": [
    {
     "data": {
      "text/plain": [
       "0    4484\n",
       "1    4373\n",
       "Name: Target, dtype: int64"
      ]
     },
     "execution_count": 15,
     "metadata": {},
     "output_type": "execute_result"
    }
   ],
   "source": [
    "df['Target'].value_counts()"
   ]
  },
  {
   "cell_type": "code",
   "execution_count": 18,
   "id": "79b2ce18",
   "metadata": {},
   "outputs": [
    {
     "data": {
      "image/png": "[encoded data removed]",
      "text/plain": [
       "<Figure size 432x288 with 1 Axes>"
      ]
     },
     "metadata": {
      "needs_background": "light"
     },
     "output_type": "display_data"
    }
   ],
   "source": [
    "sns.countplot(x='Target', data=df, palette=\"hls\")\n",
    "plt.show()"
   ]
  },
  {
   "cell_type": "code",
   "execution_count": 19,
   "id": "0e8a611e",
   "metadata": {},
   "outputs": [],
   "source": [
    "df['Returns'] = df['Returns'].fillna(0)"
   ]
  },
  {
   "cell_type": "code",
   "execution_count": 20,
   "id": "f2ebfd75",
   "metadata": {},
   "outputs": [],
   "source": [
    "X = pd.DataFrame(df.iloc[:,2:-1])\n",
    "y = pd.DataFrame(df.iloc[:,-1])"
   ]
  },
  {
   "cell_type": "code",
   "execution_count": 21,
   "id": "cbc50aaa",
   "metadata": {},
   "outputs": [],
   "source": [
    "from sklearn.model_selection import train_test_split\n",
    "X_train, X_test, y_train, y_test = train_test_split(X, y, test_size=0.2, random_state = 1)"
   ]
  },
  {
   "cell_type": "markdown",
   "id": "c4e056b1",
   "metadata": {},
   "source": [
    "# Without Regularization"
   ]
  },
  {
   "cell_type": "code",
   "execution_count": 22,
   "id": "85c1685a",
   "metadata": {},
   "outputs": [
    {
     "name": "stderr",
     "output_type": "stream",
     "text": [
      "D:\\Yas_PC\\Currently Installed Softwares\\lib\\site-packages\\sklearn\\utils\\validation.py:63: DataConversionWarning: A column-vector y was passed when a 1d array was expected. Please change the shape of y to (n_samples, ), for example using ravel().\n",
      "  return f(*args, **kwargs)\n"
     ]
    },
    {
     "data": {
      "text/plain": [
       "LogisticRegression()"
      ]
     },
     "execution_count": 22,
     "metadata": {},
     "output_type": "execute_result"
    }
   ],
   "source": [
    "from sklearn.linear_model import LogisticRegression \n",
    "logmodel = LogisticRegression()\n",
    "logmodel.fit(X_train, y_train)"
   ]
  },
  {
   "cell_type": "code",
   "execution_count": 23,
   "id": "a32a9bbb",
   "metadata": {},
   "outputs": [],
   "source": [
    "y_pred = logmodel.predict(X_test)"
   ]
  },
  {
   "cell_type": "code",
   "execution_count": 24,
   "id": "fb410ba3",
   "metadata": {},
   "outputs": [
    {
     "name": "stdout",
     "output_type": "stream",
     "text": [
      "Accuracy 0.510158013544018\n"
     ]
    }
   ],
   "source": [
    "print(\"Accuracy\", (logmodel.score(X_test, y_test)))"
   ]
  },
  {
   "cell_type": "code",
   "execution_count": 25,
   "id": "df58782a",
   "metadata": {},
   "outputs": [
    {
     "name": "stdout",
     "output_type": "stream",
     "text": [
      "[[904   0]\n",
      " [868   0]]\n"
     ]
    }
   ],
   "source": [
    "from sklearn.metrics import confusion_matrix \n",
    "confusion_matrix = confusion_matrix(y_test, y_pred)\n",
    "print(confusion_matrix)"
   ]
  },
  {
   "cell_type": "markdown",
   "id": "507e6c73",
   "metadata": {},
   "source": [
    "# With Regularization\n"
   ]
  },
  {
   "cell_type": "code",
   "execution_count": 35,
   "id": "fc2d9507",
   "metadata": {},
   "outputs": [
    {
     "name": "stderr",
     "output_type": "stream",
     "text": [
      "D:\\Yas_PC\\Currently Installed Softwares\\lib\\site-packages\\sklearn\\utils\\validation.py:63: DataConversionWarning: A column-vector y was passed when a 1d array was expected. Please change the shape of y to (n_samples, ), for example using ravel().\n",
      "  return f(*args, **kwargs)\n"
     ]
    },
    {
     "data": {
      "text/plain": [
       "LogisticRegression(C=0.05, penalty='l1', solver='liblinear')"
      ]
     },
     "execution_count": 35,
     "metadata": {},
     "output_type": "execute_result"
    }
   ],
   "source": [
    "logreg = LogisticRegression(penalty='l1',C=0.05, solver='liblinear')\n",
    "logreg.fit(X_train, y_train)"
   ]
  },
  {
   "cell_type": "code",
   "execution_count": 36,
   "id": "dd4407de",
   "metadata": {},
   "outputs": [],
   "source": [
    "y_pred = logreg.predict(X_test)"
   ]
  },
  {
   "cell_type": "code",
   "execution_count": 37,
   "id": "46aaeaed",
   "metadata": {},
   "outputs": [
    {
     "name": "stdout",
     "output_type": "stream",
     "text": [
      "Accuracy 0.9904063205417607\n"
     ]
    }
   ],
   "source": [
    "print(\"Accuracy\", (logreg.score(X_test, y_test)))"
   ]
  },
  {
   "cell_type": "code",
   "execution_count": 43,
   "id": "97985ea2",
   "metadata": {},
   "outputs": [
    {
     "name": "stdout",
     "output_type": "stream",
     "text": [
      "[[901   3]\n",
      " [ 14 854]]\n"
     ]
    }
   ],
   "source": [
    "from sklearn.metrics import confusion_matrix \n",
    "confusion_matrix = confusion_matrix(y_test, y_pred)\n",
    "print(confusion_matrix)"
   ]
  }
 ],
 "metadata": {
  "kernelspec": {
   "display_name": "Python 3",
   "language": "python",
   "name": "python3"
  },
  "language_info": {
   "codemirror_mode": {
    "name": "ipython",
    "version": 3
   },
   "file_extension": ".py",
   "mimetype": "text/x-python",
   "name": "python",
   "nbconvert_exporter": "python",
   "pygments_lexer": "ipython3",
   "version": "3.8.8"
  }
 },
 "nbformat": 4,
 "nbformat_minor": 5
}
