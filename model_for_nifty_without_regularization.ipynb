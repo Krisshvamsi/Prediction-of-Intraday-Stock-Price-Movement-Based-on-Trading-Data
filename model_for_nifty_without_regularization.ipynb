{
 "cells": [
  {
   "cell_type": "code",
   "execution_count": 21,
   "id": "c2b75109",
   "metadata": {},
   "outputs": [],
   "source": [
    "import pickle\n",
    "import pandas as pd\n",
    "import numpy as np\n",
    "import matplotlib.pyplot as plt\n",
    "import seaborn as sns"
   ]
  },
  {
   "cell_type": "code",
   "execution_count": 14,
   "id": "bcd8355c",
   "metadata": {},
   "outputs": [],
   "source": [
    "pickle_in = open(\"niftydf.pickle\",\"rb\")\n",
    "df = pickle.load(pickle_in)"
   ]
  },
  {
   "cell_type": "code",
   "execution_count": 15,
   "id": "9bb71964",
   "metadata": {},
   "outputs": [
    {
     "data": {
      "text/html": [
       "<div>\n",
       "<style scoped>\n",
       "    .dataframe tbody tr th:only-of-type {\n",
       "        vertical-align: middle;\n",
       "    }\n",
       "\n",
       "    .dataframe tbody tr th {\n",
       "        vertical-align: top;\n",
       "    }\n",
       "\n",
       "    .dataframe thead th {\n",
       "        text-align: right;\n",
       "    }\n",
       "</style>\n",
       "<table border=\"1\" class=\"dataframe\">\n",
       "  <thead>\n",
       "    <tr style=\"text-align: right;\">\n",
       "      <th></th>\n",
       "      <th>Type</th>\n",
       "      <th>Date</th>\n",
       "      <th>open</th>\n",
       "      <th>high</th>\n",
       "      <th>low</th>\n",
       "      <th>close</th>\n",
       "      <th>Year</th>\n",
       "      <th>month</th>\n",
       "      <th>day</th>\n",
       "      <th>day_of_week</th>\n",
       "      <th>...</th>\n",
       "      <th>change</th>\n",
       "      <th>change_in_percentage</th>\n",
       "      <th>ema_12</th>\n",
       "      <th>ema_26</th>\n",
       "      <th>ema_50</th>\n",
       "      <th>ema_100</th>\n",
       "      <th>ema_200</th>\n",
       "      <th>MACD</th>\n",
       "      <th>Signal</th>\n",
       "      <th>Returns</th>\n",
       "    </tr>\n",
       "  </thead>\n",
       "  <tbody>\n",
       "    <tr>\n",
       "      <th>0</th>\n",
       "      <td>NIFTY</td>\n",
       "      <td>2021-01-01</td>\n",
       "      <td>13997.90</td>\n",
       "      <td>14020.85</td>\n",
       "      <td>13991.35</td>\n",
       "      <td>14013.15</td>\n",
       "      <td>2021</td>\n",
       "      <td>1</td>\n",
       "      <td>1</td>\n",
       "      <td>4</td>\n",
       "      <td>...</td>\n",
       "      <td>15.25</td>\n",
       "      <td>0.109</td>\n",
       "      <td>14013.150000</td>\n",
       "      <td>14013.150000</td>\n",
       "      <td>14013.150000</td>\n",
       "      <td>14013.150000</td>\n",
       "      <td>14013.150000</td>\n",
       "      <td>0.000000</td>\n",
       "      <td>14013.15000</td>\n",
       "      <td>NaN</td>\n",
       "    </tr>\n",
       "    <tr>\n",
       "      <th>1</th>\n",
       "      <td>NIFTY</td>\n",
       "      <td>2021-01-01</td>\n",
       "      <td>14014.85</td>\n",
       "      <td>14018.55</td>\n",
       "      <td>14008.15</td>\n",
       "      <td>14009.05</td>\n",
       "      <td>2021</td>\n",
       "      <td>1</td>\n",
       "      <td>1</td>\n",
       "      <td>4</td>\n",
       "      <td>...</td>\n",
       "      <td>-5.80</td>\n",
       "      <td>-0.041</td>\n",
       "      <td>14012.519231</td>\n",
       "      <td>14012.846296</td>\n",
       "      <td>14012.989216</td>\n",
       "      <td>14013.068812</td>\n",
       "      <td>14013.109204</td>\n",
       "      <td>0.327066</td>\n",
       "      <td>14012.33000</td>\n",
       "      <td>-0.000293</td>\n",
       "    </tr>\n",
       "    <tr>\n",
       "      <th>2</th>\n",
       "      <td>NIFTY</td>\n",
       "      <td>2021-01-01</td>\n",
       "      <td>14008.05</td>\n",
       "      <td>14013.10</td>\n",
       "      <td>14005.05</td>\n",
       "      <td>14012.70</td>\n",
       "      <td>2021</td>\n",
       "      <td>1</td>\n",
       "      <td>1</td>\n",
       "      <td>4</td>\n",
       "      <td>...</td>\n",
       "      <td>4.65</td>\n",
       "      <td>0.033</td>\n",
       "      <td>14012.547041</td>\n",
       "      <td>14012.835460</td>\n",
       "      <td>14012.977874</td>\n",
       "      <td>14013.061509</td>\n",
       "      <td>14013.105132</td>\n",
       "      <td>0.288418</td>\n",
       "      <td>14012.40400</td>\n",
       "      <td>0.000261</td>\n",
       "    </tr>\n",
       "    <tr>\n",
       "      <th>3</th>\n",
       "      <td>NIFTY</td>\n",
       "      <td>2021-01-01</td>\n",
       "      <td>14013.65</td>\n",
       "      <td>14019.10</td>\n",
       "      <td>14013.65</td>\n",
       "      <td>14016.20</td>\n",
       "      <td>2021</td>\n",
       "      <td>1</td>\n",
       "      <td>1</td>\n",
       "      <td>4</td>\n",
       "      <td>...</td>\n",
       "      <td>2.55</td>\n",
       "      <td>0.018</td>\n",
       "      <td>14013.109035</td>\n",
       "      <td>14013.084685</td>\n",
       "      <td>14013.104232</td>\n",
       "      <td>14013.123657</td>\n",
       "      <td>14013.135927</td>\n",
       "      <td>-0.024350</td>\n",
       "      <td>14013.16320</td>\n",
       "      <td>0.000250</td>\n",
       "    </tr>\n",
       "    <tr>\n",
       "      <th>4</th>\n",
       "      <td>NIFTY</td>\n",
       "      <td>2021-01-01</td>\n",
       "      <td>14015.45</td>\n",
       "      <td>14017.80</td>\n",
       "      <td>14011.95</td>\n",
       "      <td>14015.45</td>\n",
       "      <td>2021</td>\n",
       "      <td>1</td>\n",
       "      <td>1</td>\n",
       "      <td>4</td>\n",
       "      <td>...</td>\n",
       "      <td>0.00</td>\n",
       "      <td>0.000</td>\n",
       "      <td>14013.469184</td>\n",
       "      <td>14013.259893</td>\n",
       "      <td>14013.196223</td>\n",
       "      <td>14013.169723</td>\n",
       "      <td>14013.158953</td>\n",
       "      <td>-0.209290</td>\n",
       "      <td>14013.62056</td>\n",
       "      <td>-0.000054</td>\n",
       "    </tr>\n",
       "  </tbody>\n",
       "</table>\n",
       "<p>5 rows × 23 columns</p>\n",
       "</div>"
      ],
      "text/plain": [
       "    Type       Date      open      high       low     close  Year  month  day  \\\n",
       "0  NIFTY 2021-01-01  13997.90  14020.85  13991.35  14013.15  2021      1    1   \n",
       "1  NIFTY 2021-01-01  14014.85  14018.55  14008.15  14009.05  2021      1    1   \n",
       "2  NIFTY 2021-01-01  14008.05  14013.10  14005.05  14012.70  2021      1    1   \n",
       "3  NIFTY 2021-01-01  14013.65  14019.10  14013.65  14016.20  2021      1    1   \n",
       "4  NIFTY 2021-01-01  14015.45  14017.80  14011.95  14015.45  2021      1    1   \n",
       "\n",
       "   day_of_week  ...  change  change_in_percentage        ema_12        ema_26  \\\n",
       "0            4  ...   15.25                 0.109  14013.150000  14013.150000   \n",
       "1            4  ...   -5.80                -0.041  14012.519231  14012.846296   \n",
       "2            4  ...    4.65                 0.033  14012.547041  14012.835460   \n",
       "3            4  ...    2.55                 0.018  14013.109035  14013.084685   \n",
       "4            4  ...    0.00                 0.000  14013.469184  14013.259893   \n",
       "\n",
       "         ema_50       ema_100       ema_200      MACD       Signal   Returns  \n",
       "0  14013.150000  14013.150000  14013.150000  0.000000  14013.15000       NaN  \n",
       "1  14012.989216  14013.068812  14013.109204  0.327066  14012.33000 -0.000293  \n",
       "2  14012.977874  14013.061509  14013.105132  0.288418  14012.40400  0.000261  \n",
       "3  14013.104232  14013.123657  14013.135927 -0.024350  14013.16320  0.000250  \n",
       "4  14013.196223  14013.169723  14013.158953 -0.209290  14013.62056 -0.000054  \n",
       "\n",
       "[5 rows x 23 columns]"
      ]
     },
     "execution_count": 15,
     "metadata": {},
     "output_type": "execute_result"
    }
   ],
   "source": [
    "df.head()"
   ]
  },
  {
   "cell_type": "code",
   "execution_count": 16,
   "id": "10ecf143",
   "metadata": {},
   "outputs": [
    {
     "name": "stdout",
     "output_type": "stream",
     "text": [
      "<class 'pandas.core.frame.DataFrame'>\n",
      "RangeIndex: 22805 entries, 0 to 22804\n",
      "Data columns (total 23 columns):\n",
      " #   Column                Non-Null Count  Dtype         \n",
      "---  ------                --------------  -----         \n",
      " 0   Type                  22805 non-null  object        \n",
      " 1   Date                  22805 non-null  datetime64[ns]\n",
      " 2   open                  22805 non-null  float64       \n",
      " 3   high                  22805 non-null  float64       \n",
      " 4   low                   22805 non-null  float64       \n",
      " 5   close                 22805 non-null  float64       \n",
      " 6   Year                  22805 non-null  int64         \n",
      " 7   month                 22805 non-null  int64         \n",
      " 8   day                   22805 non-null  int64         \n",
      " 9   day_of_week           22805 non-null  int64         \n",
      " 10  week                  22805 non-null  UInt32        \n",
      " 11  hour                  22805 non-null  int64         \n",
      " 12  min                   22805 non-null  int64         \n",
      " 13  change                22805 non-null  float64       \n",
      " 14  change_in_percentage  22805 non-null  float64       \n",
      " 15  ema_12                22805 non-null  float64       \n",
      " 16  ema_26                22805 non-null  float64       \n",
      " 17  ema_50                22805 non-null  float64       \n",
      " 18  ema_100               22805 non-null  float64       \n",
      " 19  ema_200               22805 non-null  float64       \n",
      " 20  MACD                  22805 non-null  float64       \n",
      " 21  Signal                22805 non-null  float64       \n",
      " 22  Returns               22804 non-null  float64       \n",
      "dtypes: UInt32(1), datetime64[ns](1), float64(14), int64(6), object(1)\n",
      "memory usage: 3.9+ MB\n"
     ]
    }
   ],
   "source": [
    "df.info()"
   ]
  },
  {
   "cell_type": "code",
   "execution_count": 17,
   "id": "6686dd87",
   "metadata": {},
   "outputs": [
    {
     "data": {
      "text/html": [
       "<div>\n",
       "<style scoped>\n",
       "    .dataframe tbody tr th:only-of-type {\n",
       "        vertical-align: middle;\n",
       "    }\n",
       "\n",
       "    .dataframe tbody tr th {\n",
       "        vertical-align: top;\n",
       "    }\n",
       "\n",
       "    .dataframe thead th {\n",
       "        text-align: right;\n",
       "    }\n",
       "</style>\n",
       "<table border=\"1\" class=\"dataframe\">\n",
       "  <thead>\n",
       "    <tr style=\"text-align: right;\">\n",
       "      <th></th>\n",
       "      <th>Type</th>\n",
       "      <th>Date</th>\n",
       "      <th>open</th>\n",
       "      <th>high</th>\n",
       "      <th>low</th>\n",
       "      <th>close</th>\n",
       "      <th>Year</th>\n",
       "      <th>month</th>\n",
       "      <th>day</th>\n",
       "      <th>day_of_week</th>\n",
       "      <th>...</th>\n",
       "      <th>change_in_percentage</th>\n",
       "      <th>ema_12</th>\n",
       "      <th>ema_26</th>\n",
       "      <th>ema_50</th>\n",
       "      <th>ema_100</th>\n",
       "      <th>ema_200</th>\n",
       "      <th>MACD</th>\n",
       "      <th>Signal</th>\n",
       "      <th>Returns</th>\n",
       "      <th>Target</th>\n",
       "    </tr>\n",
       "  </thead>\n",
       "  <tbody>\n",
       "    <tr>\n",
       "      <th>0</th>\n",
       "      <td>NIFTY</td>\n",
       "      <td>2021-01-01</td>\n",
       "      <td>13997.90</td>\n",
       "      <td>14020.85</td>\n",
       "      <td>13991.35</td>\n",
       "      <td>14013.15</td>\n",
       "      <td>2021</td>\n",
       "      <td>1</td>\n",
       "      <td>1</td>\n",
       "      <td>4</td>\n",
       "      <td>...</td>\n",
       "      <td>0.109</td>\n",
       "      <td>14013.150000</td>\n",
       "      <td>14013.150000</td>\n",
       "      <td>14013.150000</td>\n",
       "      <td>14013.150000</td>\n",
       "      <td>14013.150000</td>\n",
       "      <td>0.000000</td>\n",
       "      <td>14013.15000</td>\n",
       "      <td>NaN</td>\n",
       "      <td>1</td>\n",
       "    </tr>\n",
       "    <tr>\n",
       "      <th>1</th>\n",
       "      <td>NIFTY</td>\n",
       "      <td>2021-01-01</td>\n",
       "      <td>14014.85</td>\n",
       "      <td>14018.55</td>\n",
       "      <td>14008.15</td>\n",
       "      <td>14009.05</td>\n",
       "      <td>2021</td>\n",
       "      <td>1</td>\n",
       "      <td>1</td>\n",
       "      <td>4</td>\n",
       "      <td>...</td>\n",
       "      <td>-0.041</td>\n",
       "      <td>14012.519231</td>\n",
       "      <td>14012.846296</td>\n",
       "      <td>14012.989216</td>\n",
       "      <td>14013.068812</td>\n",
       "      <td>14013.109204</td>\n",
       "      <td>0.327066</td>\n",
       "      <td>14012.33000</td>\n",
       "      <td>-0.000293</td>\n",
       "      <td>0</td>\n",
       "    </tr>\n",
       "    <tr>\n",
       "      <th>2</th>\n",
       "      <td>NIFTY</td>\n",
       "      <td>2021-01-01</td>\n",
       "      <td>14008.05</td>\n",
       "      <td>14013.10</td>\n",
       "      <td>14005.05</td>\n",
       "      <td>14012.70</td>\n",
       "      <td>2021</td>\n",
       "      <td>1</td>\n",
       "      <td>1</td>\n",
       "      <td>4</td>\n",
       "      <td>...</td>\n",
       "      <td>0.033</td>\n",
       "      <td>14012.547041</td>\n",
       "      <td>14012.835460</td>\n",
       "      <td>14012.977874</td>\n",
       "      <td>14013.061509</td>\n",
       "      <td>14013.105132</td>\n",
       "      <td>0.288418</td>\n",
       "      <td>14012.40400</td>\n",
       "      <td>0.000261</td>\n",
       "      <td>1</td>\n",
       "    </tr>\n",
       "    <tr>\n",
       "      <th>3</th>\n",
       "      <td>NIFTY</td>\n",
       "      <td>2021-01-01</td>\n",
       "      <td>14013.65</td>\n",
       "      <td>14019.10</td>\n",
       "      <td>14013.65</td>\n",
       "      <td>14016.20</td>\n",
       "      <td>2021</td>\n",
       "      <td>1</td>\n",
       "      <td>1</td>\n",
       "      <td>4</td>\n",
       "      <td>...</td>\n",
       "      <td>0.018</td>\n",
       "      <td>14013.109035</td>\n",
       "      <td>14013.084685</td>\n",
       "      <td>14013.104232</td>\n",
       "      <td>14013.123657</td>\n",
       "      <td>14013.135927</td>\n",
       "      <td>-0.024350</td>\n",
       "      <td>14013.16320</td>\n",
       "      <td>0.000250</td>\n",
       "      <td>1</td>\n",
       "    </tr>\n",
       "    <tr>\n",
       "      <th>4</th>\n",
       "      <td>NIFTY</td>\n",
       "      <td>2021-01-01</td>\n",
       "      <td>14015.45</td>\n",
       "      <td>14017.80</td>\n",
       "      <td>14011.95</td>\n",
       "      <td>14015.45</td>\n",
       "      <td>2021</td>\n",
       "      <td>1</td>\n",
       "      <td>1</td>\n",
       "      <td>4</td>\n",
       "      <td>...</td>\n",
       "      <td>0.000</td>\n",
       "      <td>14013.469184</td>\n",
       "      <td>14013.259893</td>\n",
       "      <td>14013.196223</td>\n",
       "      <td>14013.169723</td>\n",
       "      <td>14013.158953</td>\n",
       "      <td>-0.209290</td>\n",
       "      <td>14013.62056</td>\n",
       "      <td>-0.000054</td>\n",
       "      <td>1</td>\n",
       "    </tr>\n",
       "  </tbody>\n",
       "</table>\n",
       "<p>5 rows × 24 columns</p>\n",
       "</div>"
      ],
      "text/plain": [
       "    Type       Date      open      high       low     close  Year  month  day  \\\n",
       "0  NIFTY 2021-01-01  13997.90  14020.85  13991.35  14013.15  2021      1    1   \n",
       "1  NIFTY 2021-01-01  14014.85  14018.55  14008.15  14009.05  2021      1    1   \n",
       "2  NIFTY 2021-01-01  14008.05  14013.10  14005.05  14012.70  2021      1    1   \n",
       "3  NIFTY 2021-01-01  14013.65  14019.10  14013.65  14016.20  2021      1    1   \n",
       "4  NIFTY 2021-01-01  14015.45  14017.80  14011.95  14015.45  2021      1    1   \n",
       "\n",
       "   day_of_week  ...  change_in_percentage        ema_12        ema_26  \\\n",
       "0            4  ...                 0.109  14013.150000  14013.150000   \n",
       "1            4  ...                -0.041  14012.519231  14012.846296   \n",
       "2            4  ...                 0.033  14012.547041  14012.835460   \n",
       "3            4  ...                 0.018  14013.109035  14013.084685   \n",
       "4            4  ...                 0.000  14013.469184  14013.259893   \n",
       "\n",
       "         ema_50       ema_100       ema_200      MACD       Signal   Returns  \\\n",
       "0  14013.150000  14013.150000  14013.150000  0.000000  14013.15000       NaN   \n",
       "1  14012.989216  14013.068812  14013.109204  0.327066  14012.33000 -0.000293   \n",
       "2  14012.977874  14013.061509  14013.105132  0.288418  14012.40400  0.000261   \n",
       "3  14013.104232  14013.123657  14013.135927 -0.024350  14013.16320  0.000250   \n",
       "4  14013.196223  14013.169723  14013.158953 -0.209290  14013.62056 -0.000054   \n",
       "\n",
       "   Target  \n",
       "0       1  \n",
       "1       0  \n",
       "2       1  \n",
       "3       1  \n",
       "4       1  \n",
       "\n",
       "[5 rows x 24 columns]"
      ]
     },
     "execution_count": 17,
     "metadata": {},
     "output_type": "execute_result"
    }
   ],
   "source": [
    "df['Target'] = df['change_in_percentage'].apply(lambda x: '1' if (x >= 0 ) else '0')\n",
    "df.head()"
   ]
  },
  {
   "cell_type": "code",
   "execution_count": 18,
   "id": "496b03ba",
   "metadata": {},
   "outputs": [
    {
     "data": {
      "text/plain": [
       "1    11687\n",
       "0    11118\n",
       "Name: Target, dtype: int64"
      ]
     },
     "execution_count": 18,
     "metadata": {},
     "output_type": "execute_result"
    }
   ],
   "source": [
    "df['Target'].value_counts()"
   ]
  },
  {
   "cell_type": "code",
   "execution_count": 22,
   "id": "e8227877",
   "metadata": {},
   "outputs": [
    {
     "data": {
      "image/png": "[encoded data removed]",
      "text/plain": [
       "<Figure size 432x288 with 1 Axes>"
      ]
     },
     "metadata": {
      "needs_background": "light"
     },
     "output_type": "display_data"
    }
   ],
   "source": [
    "sns.countplot(x='Target', data=df, palette=\"hls\")\n",
    "plt.show()"
   ]
  },
  {
   "cell_type": "code",
   "execution_count": 34,
   "id": "6cdedd26",
   "metadata": {},
   "outputs": [],
   "source": [
    "df['Returns'] = df['Returns'].fillna(0)"
   ]
  },
  {
   "cell_type": "code",
   "execution_count": 35,
   "id": "195d691a",
   "metadata": {},
   "outputs": [],
   "source": [
    "X = pd.DataFrame(df.iloc[:,2:-1])\n",
    "y = pd.DataFrame(df.iloc[:,-1])"
   ]
  },
  {
   "cell_type": "code",
   "execution_count": 36,
   "id": "15316717",
   "metadata": {},
   "outputs": [],
   "source": [
    "from sklearn.model_selection import train_test_split\n",
    "X_train, X_test, y_train, y_test = train_test_split(X, y, test_size=0.2, random_state = 1)"
   ]
  },
  {
   "cell_type": "markdown",
   "id": "5a10ac7e",
   "metadata": {},
   "source": [
    "# Without Regularization"
   ]
  },
  {
   "cell_type": "code",
   "execution_count": 37,
   "id": "1434530f",
   "metadata": {},
   "outputs": [
    {
     "name": "stderr",
     "output_type": "stream",
     "text": [
      "D:\\Yas_PC\\Currently Installed Softwares\\lib\\site-packages\\sklearn\\utils\\validation.py:63: DataConversionWarning: A column-vector y was passed when a 1d array was expected. Please change the shape of y to (n_samples, ), for example using ravel().\n",
      "  return f(*args, **kwargs)\n",
      "D:\\Yas_PC\\Currently Installed Softwares\\lib\\site-packages\\sklearn\\linear_model\\_logistic.py:763: ConvergenceWarning: lbfgs failed to converge (status=1):\n",
      "STOP: TOTAL NO. of ITERATIONS REACHED LIMIT.\n",
      "\n",
      "Increase the number of iterations (max_iter) or scale the data as shown in:\n",
      "    https://scikit-learn.org/stable/modules/preprocessing.html\n",
      "Please also refer to the documentation for alternative solver options:\n",
      "    https://scikit-learn.org/stable/modules/linear_model.html#logistic-regression\n",
      "  n_iter_i = _check_optimize_result(\n"
     ]
    },
    {
     "data": {
      "text/plain": [
       "LogisticRegression()"
      ]
     },
     "execution_count": 37,
     "metadata": {},
     "output_type": "execute_result"
    }
   ],
   "source": [
    "from sklearn.linear_model import LogisticRegression \n",
    "logmodel = LogisticRegression()\n",
    "logmodel.fit(X_train, y_train)"
   ]
  },
  {
   "cell_type": "code",
   "execution_count": 38,
   "id": "b086ad04",
   "metadata": {},
   "outputs": [],
   "source": [
    "y_pred = logmodel.predict(X_test)"
   ]
  },
  {
   "cell_type": "code",
   "execution_count": 39,
   "id": "52aa40f8",
   "metadata": {},
   "outputs": [
    {
     "name": "stdout",
     "output_type": "stream",
     "text": [
      "Accuracy 0.969743477307608\n"
     ]
    }
   ],
   "source": [
    "print(\"Accuracy\", (logmodel.score(X_test, y_test)))"
   ]
  },
  {
   "cell_type": "code",
   "execution_count": 41,
   "id": "eaae84c0",
   "metadata": {},
   "outputs": [
    {
     "name": "stdout",
     "output_type": "stream",
     "text": [
      "[[2157   87]\n",
      " [  51 2266]]\n"
     ]
    }
   ],
   "source": [
    "from sklearn.metrics import confusion_matrix \n",
    "confusion_matrix = confusion_matrix(y_test, y_pred)\n",
    "print(confusion_matrix)"
   ]
  },
  {
   "cell_type": "markdown",
   "id": "74943574",
   "metadata": {},
   "source": [
    "# With Regularization"
   ]
  },
  {
   "cell_type": "code",
   "execution_count": 59,
   "id": "4c01952f",
   "metadata": {},
   "outputs": [
    {
     "name": "stderr",
     "output_type": "stream",
     "text": [
      "D:\\Yas_PC\\Currently Installed Softwares\\lib\\site-packages\\sklearn\\utils\\validation.py:63: DataConversionWarning: A column-vector y was passed when a 1d array was expected. Please change the shape of y to (n_samples, ), for example using ravel().\n",
      "  return f(*args, **kwargs)\n"
     ]
    },
    {
     "data": {
      "text/plain": [
       "LogisticRegression(C=0.05, penalty='l1', solver='liblinear')"
      ]
     },
     "execution_count": 59,
     "metadata": {},
     "output_type": "execute_result"
    }
   ],
   "source": [
    "logreg = LogisticRegression(penalty='l1',C=0.05, solver='liblinear')\n",
    "logreg.fit(X_train, y_train)"
   ]
  },
  {
   "cell_type": "code",
   "execution_count": 60,
   "id": "18e4776f",
   "metadata": {},
   "outputs": [],
   "source": [
    "y_pred = logreg.predict(X_test)"
   ]
  },
  {
   "cell_type": "code",
   "execution_count": 61,
   "id": "0323353c",
   "metadata": {},
   "outputs": [
    {
     "name": "stdout",
     "output_type": "stream",
     "text": [
      "Accuracy 0.9986844990133743\n"
     ]
    }
   ],
   "source": [
    "print(\"Accuracy\", (logreg.score(X_test, y_test)))"
   ]
  }
 ],
 "metadata": {
  "kernelspec": {
   "display_name": "Python 3",
   "language": "python",
   "name": "python3"
  },
  "language_info": {
   "codemirror_mode": {
    "name": "ipython",
    "version": 3
   },
   "file_extension": ".py",
   "mimetype": "text/x-python",
   "name": "python",
   "nbconvert_exporter": "python",
   "pygments_lexer": "ipython3",
   "version": "3.8.8"
  }
 },
 "nbformat": 4,
 "nbformat_minor": 5
}
